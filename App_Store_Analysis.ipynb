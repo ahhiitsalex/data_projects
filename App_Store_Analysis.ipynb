{
 "cells": [
  {
   "cell_type": "markdown",
   "metadata": {},
   "source": [
    "# Analyzing Mobile Apps Data\n",
    "\n",
    "The goal of the project is to analyze data to help our company's developers understand what type of apps are likely to attract more users. I am working as a data analyst for a fictional company that builds mobile apps. We are building apps that are free to download and install, and the major source of reveneue consits of in-app ads showed to users. \n",
    "\n",
    "For this project I chose to analyze data for both Android and iOS mobile apps from the the Google Play and Apple's App Store."
   ]
  },
  {
   "cell_type": "markdown",
   "metadata": {},
   "source": [
    "# Exploring the Data\n",
    "\n",
    "I started by looking for readily available data sets online. \n",
    "* [Google Play data set](https://www.kaggle.com/lava18/google-play-store-apps) (apps data as of Sept. 2018)\n",
    "* [Apple Apps Store data set](https://www.kaggle.com/ramamet4/app-store-apple-data-set-10k-apps) (apps data as of Sept. 2018)\n",
    "\n",
    "I then opened each data set.\n"
   ]
  },
  {
   "cell_type": "code",
   "execution_count": 2,
   "metadata": {
    "collapsed": true
   },
   "outputs": [],
   "source": [
    "##Apple Store Data Set##\n",
    "opened_file= open('AppleStore.csv')\n",
    "from csv import reader\n",
    "read_file = reader(opened_file)\n",
    "ios = list(read_file)\n",
    "ios_header = ios[0]\n",
    "ios_dataset = ios[1:]\n",
    "\n",
    "## Google Play Data Set##\n",
    "opened_file = open('googleplaystore.csv')\n",
    "from csv import reader\n",
    "read_file = reader(opened_file)\n",
    "android = list(read_file)\n",
    "android_header = android [0]\n",
    "android_dataset = android [1:]\n",
    "\n",
    " "
   ]
  },
  {
   "cell_type": "markdown",
   "metadata": {},
   "source": [
    "Then we will create a new function that we can use repeatedly to explore the data. "
   ]
  },
  {
   "cell_type": "code",
   "execution_count": 3,
   "metadata": {
    "collapsed": false
   },
   "outputs": [
    {
     "name": "stdout",
     "output_type": "stream",
     "text": [
      "['id', 'track_name', 'size_bytes', 'currency', 'price', 'rating_count_tot', 'rating_count_ver', 'user_rating', 'user_rating_ver', 'ver', 'cont_rating', 'prime_genre', 'sup_devices.num', 'ipadSc_urls.num', 'lang.num', 'vpp_lic']\n",
      "\n",
      "\n",
      "['389801252', 'Instagram', '113954816', 'USD', '0.0', '2161558', '1289', '4.5', '4.0', '10.23', '12+', 'Photo & Video', '37', '0', '29', '1']\n",
      "\n",
      "\n",
      "['529479190', 'Clash of Clans', '116476928', 'USD', '0.0', '2130805', '579', '4.5', '4.5', '9.24.12', '9+', 'Games', '38', '5', '18', '1']\n",
      "\n",
      "\n",
      "['420009108', 'Temple Run', '65921024', 'USD', '0.0', '1724546', '3842', '4.5', '4.0', '1.6.2', '9+', 'Games', '40', '5', '1', '1']\n",
      "\n",
      "\n",
      "['284035177', 'Pandora - Music & Radio', '130242560', 'USD', '0.0', '1126879', '3594', '4.0', '4.5', '8.4.1', '12+', 'Music', '37', '4', '1', '1']\n",
      "\n",
      "\n",
      "Number of rows: 7197\n",
      "Number of columns: 16\n"
     ]
    }
   ],
   "source": [
    "def explore_data(dataset, start, end, rows_and_columns=False):\n",
    "    dataset_slice = dataset[start:end]    \n",
    "    for row in dataset_slice:\n",
    "        print(row)\n",
    "        print('\\n') # adds a new (empty) line after each row\n",
    "\n",
    "    if rows_and_columns:\n",
    "        print('Number of rows:', len(dataset))\n",
    "        print('Number of columns:', len(dataset[0]))\n",
    "        \n",
    "print(ios_header)     \n",
    "print('\\n')\n",
    "explore_data(ios_dataset, 1 , 5 ,True)"
   ]
  },
  {
   "cell_type": "code",
   "execution_count": 4,
   "metadata": {
    "collapsed": false
   },
   "outputs": [
    {
     "name": "stdout",
     "output_type": "stream",
     "text": [
      "['App', 'Category', 'Rating', 'Reviews', 'Size', 'Installs', 'Type', 'Price', 'Content Rating', 'Genres', 'Last Updated', 'Current Ver', 'Android Ver']\n",
      "\n",
      "\n",
      "['Coloring book moana', 'ART_AND_DESIGN', '3.9', '967', '14M', '500,000+', 'Free', '0', 'Everyone', 'Art & Design;Pretend Play', 'January 15, 2018', '2.0.0', '4.0.3 and up']\n",
      "\n",
      "\n",
      "['U Launcher Lite – FREE Live Cool Themes, Hide Apps', 'ART_AND_DESIGN', '4.7', '87510', '8.7M', '5,000,000+', 'Free', '0', 'Everyone', 'Art & Design', 'August 1, 2018', '1.2.4', '4.0.3 and up']\n",
      "\n",
      "\n",
      "['Sketch - Draw & Paint', 'ART_AND_DESIGN', '4.5', '215644', '25M', '50,000,000+', 'Free', '0', 'Teen', 'Art & Design', 'June 8, 2018', 'Varies with device', '4.2 and up']\n",
      "\n",
      "\n",
      "['Pixel Draw - Number Art Coloring Book', 'ART_AND_DESIGN', '4.3', '967', '2.8M', '100,000+', 'Free', '0', 'Everyone', 'Art & Design;Creativity', 'June 20, 2018', '1.1', '4.4 and up']\n",
      "\n",
      "\n",
      "Number of rows: 10841\n",
      "Number of columns: 13\n"
     ]
    }
   ],
   "source": [
    "print(android_header)\n",
    "print('\\n')\n",
    "explore_data(android_dataset, 1, 5, True)"
   ]
  },
  {
   "cell_type": "markdown",
   "metadata": {},
   "source": [
    "# Finding and Removing Duplicates\n",
    "\n",
    "At our company, we are primarily concenred with only free apps directed at an English-speaking audience. We also want to remove any duplicate or incorrect data. \n",
    "\n",
    "In the [discussion section on Kaggle](https://www.kaggle.com/lava18/google-play-store-apps/discussion/66015) of the Google Play data set, we can see that a user identified an error that needs to be corrected."
   ]
  },
  {
   "cell_type": "code",
   "execution_count": 14,
   "metadata": {
    "collapsed": false,
    "scrolled": true
   },
   "outputs": [
    {
     "name": "stdout",
     "output_type": "stream",
     "text": [
      "Life Made WI-Fi Touchscreen Photo Frame,1.9,19,3.0M,\"1,000+\",Free,0,Everyone,,\"February 11, 2018\",1.0.19,4.0 and up\n",
      "\n"
     ]
    }
   ],
   "source": [
    "print(android_dataset[10472])"
   ]
  },
  {
   "cell_type": "markdown",
   "metadata": {},
   "source": [
    "It is unclear whether or not this row is missing its rating entry or category entry. To be safe, we will delete the entire row."
   ]
  },
  {
   "cell_type": "code",
   "execution_count": 5,
   "metadata": {
    "collapsed": false
   },
   "outputs": [
    {
     "name": "stdout",
     "output_type": "stream",
     "text": [
      "10841\n",
      "10840\n"
     ]
    }
   ],
   "source": [
    "print(len(android_dataset))\n",
    "del android_dataset [10472]\n",
    "print(len(android_dataset))"
   ]
  },
  {
   "cell_type": "markdown",
   "metadata": {
    "collapsed": true
   },
   "source": [
    "Next, I checked for duplicates within each data set. "
   ]
  },
  {
   "cell_type": "code",
   "execution_count": 6,
   "metadata": {
    "collapsed": false
   },
   "outputs": [
    {
     "name": "stdout",
     "output_type": "stream",
     "text": [
      "Number of Duplicate Apps: 1181\n",
      "Number of Unique Apps: 9659\n",
      "Examples of Duplicates Apps: ['Quick PDF Scanner + OCR FREE', 'Box', 'Google My Business', 'ZOOM Cloud Meetings', 'join.me - Simple Meetings']\n"
     ]
    }
   ],
   "source": [
    "duplicates_android = []\n",
    "uniques_android = []\n",
    "\n",
    "for app in android_dataset:\n",
    "    name = app[0]\n",
    "    if name in uniques_android:\n",
    "        duplicates_android.append(name)\n",
    "    else:\n",
    "        uniques_android.append(name)\n",
    "        \n",
    "print ('Number of Duplicate Apps:', len(duplicates_android))\n",
    "print ('Number of Unique Apps:', len(uniques_android))\n",
    "print ('Examples of Duplicates Apps:', duplicates_android[:5])"
   ]
  },
  {
   "cell_type": "code",
   "execution_count": 7,
   "metadata": {
    "collapsed": false
   },
   "outputs": [
    {
     "name": "stdout",
     "output_type": "stream",
     "text": [
      "Number of Duplicate Apps: 0\n",
      "Number of Unique Apps: 7197\n",
      "Examples of Duplicates Apps: []\n"
     ]
    }
   ],
   "source": [
    "duplicates_ios = []\n",
    "uniques_ios= []\n",
    "\n",
    "for app in ios_dataset:\n",
    "    name = app[0]\n",
    "    if name in uniques_ios:\n",
    "        duplicates_ios.append(name)\n",
    "    else:\n",
    "        uniques_ios.append(name)\n",
    "        \n",
    "print ('Number of Duplicate Apps:', len(duplicates_ios))\n",
    "print ('Number of Unique Apps:', len(uniques_ios))\n",
    "print ('Examples of Duplicates Apps:', duplicates_ios[:5])"
   ]
  },
  {
   "cell_type": "markdown",
   "metadata": {},
   "source": [
    "The Google Play data contains 1,181 duplicates, while the App Store data contains none. According to the various [discussion threads on Kaggle](https://www.kaggle.com/ramamet4/app-store-apple-data-set-10k-apps/discussion) this seems to be the consensus.\n",
    "\n",
    "From previewing the duplicate rows, we can see the main discrepancy is in the number of reviews left in the Google Play Store. We can use this as an opportunity to create criteria for deleting rows. \n",
    "\n",
    "Since our analysis focuses on number of downloads, we will keep the row with the highest amount of downloads.\n",
    "\n",
    "Now that we have a criteria, we will begin the process of isolating and removing the duplicates.\n",
    "\n",
    "In order to do this, we will need to create a dictionary.\n",
    "\n",
    "Since we know there are 1,181 duplicates in the Play Store, we need to isolate those duplicates and confirm the new lengeth, 9,659."
   ]
  },
  {
   "cell_type": "code",
   "execution_count": 8,
   "metadata": {
    "collapsed": false
   },
   "outputs": [
    {
     "name": "stdout",
     "output_type": "stream",
     "text": [
      "Expected length: 9659\n",
      "Google Play Length: 9659\n"
     ]
    }
   ],
   "source": [
    "reviews_max = {}\n",
    "\n",
    "for app in android_dataset:\n",
    "    name = app[0]\n",
    "    n_reviews = float(app[3])\n",
    "    \n",
    "    if name in reviews_max and reviews_max[name] < n_reviews:\n",
    "        reviews_max[name] = n_reviews\n",
    "        \n",
    "    elif name not in reviews_max:\n",
    "        reviews_max[name] = n_reviews\n",
    "        \n",
    "print('Expected length:', len(android_dataset) - 1181)\n",
    "print('Google Play Length:', len(reviews_max))"
   ]
  },
  {
   "cell_type": "markdown",
   "metadata": {},
   "source": [
    "The dictionary now contains the duplicate apps, but we want to only keep the duplicates with the highest number of reviews.\n",
    "\n",
    "We need to delete the duplicates."
   ]
  },
  {
   "cell_type": "code",
   "execution_count": 9,
   "metadata": {
    "collapsed": false
   },
   "outputs": [],
   "source": [
    "android_clean = []\n",
    "already_added = []\n",
    "\n",
    "for app in android_dataset:\n",
    "    name = app[0]\n",
    "    n_reviews = float(app[3])\n",
    "    \n",
    "    if (reviews_max[name] == n_reviews) and (name not in already_added):\n",
    "        android_clean.append(app)\n",
    "        already_added.append(name)\n",
    "                "
   ]
  },
  {
   "cell_type": "code",
   "execution_count": 10,
   "metadata": {
    "collapsed": false
   },
   "outputs": [
    {
     "name": "stdout",
     "output_type": "stream",
     "text": [
      "['Photo Editor & Candy Camera & Grid & ScrapBook', 'ART_AND_DESIGN', '4.1', '159', '19M', '10,000+', 'Free', '0', 'Everyone', 'Art & Design', 'January 7, 2018', '1.0.0', '4.0.3 and up']\n",
      "\n",
      "\n",
      "['U Launcher Lite – FREE Live Cool Themes, Hide Apps', 'ART_AND_DESIGN', '4.7', '87510', '8.7M', '5,000,000+', 'Free', '0', 'Everyone', 'Art & Design', 'August 1, 2018', '1.2.4', '4.0.3 and up']\n",
      "\n",
      "\n",
      "['Sketch - Draw & Paint', 'ART_AND_DESIGN', '4.5', '215644', '25M', '50,000,000+', 'Free', '0', 'Teen', 'Art & Design', 'June 8, 2018', 'Varies with device', '4.2 and up']\n",
      "\n",
      "\n",
      "Number of rows: 9659\n",
      "Number of columns: 13\n"
     ]
    }
   ],
   "source": [
    "explore_data(android_clean,0,3,True)"
   ]
  },
  {
   "cell_type": "markdown",
   "metadata": {},
   "source": [
    "# Removing Non-English Apps\n",
    "\n",
    "Now that I have managed to remove the duplicate app entries, I want to narrow down the list to just apps that are made for English-speaking audience. \n",
    "\n",
    "In order to do that, I created a function to identify apps with [ASCII chracters](https://en.wikipedia.org/wiki/ASCII) below 127 (ASCII chracterers below 127 are english chracters such as 'a' or '9')"
   ]
  },
  {
   "cell_type": "code",
   "execution_count": 11,
   "metadata": {
    "collapsed": false
   },
   "outputs": [
    {
     "name": "stdout",
     "output_type": "stream",
     "text": [
      "True\n",
      "False\n",
      "False\n",
      "False\n"
     ]
    }
   ],
   "source": [
    "def english_app(string):\n",
    "    for chracter in string:\n",
    "        if ord(chracter) > 127:\n",
    "            return False \n",
    "    else:\n",
    "        return True\n",
    "    \n",
    "print(english_app('Instagrm'))\n",
    "print(english_app('爱奇艺PPS -《欢乐颂2》电视剧热播'))\n",
    "print(english_app('Docs To Go™ Free Office Suite'))\n",
    "print(english_app('Instachat 😜'))\n"
   ]
  },
  {
   "cell_type": "markdown",
   "metadata": {},
   "source": [
    "While the function seems to work for the most part, if we were to use the function as is, it  would exclude apps that contains special symbols like emojis or trademarks because they fall outside of the ASCII range. Therefore, we know the app needs to be modified to be more inclusive. \n",
    "\n",
    "We will only elimnate apps with more than 3 non-ASCII chracters. This isn't perfect, but will minimize unnecessary data loss. "
   ]
  },
  {
   "cell_type": "code",
   "execution_count": 12,
   "metadata": {
    "collapsed": false
   },
   "outputs": [
    {
     "name": "stdout",
     "output_type": "stream",
     "text": [
      "True\n",
      "True\n",
      "False\n"
     ]
    }
   ],
   "source": [
    "def english_app(string):\n",
    "    not_english = 0\n",
    "    \n",
    "    for character in string:\n",
    "        if ord(character) > 127:\n",
    "            not_english += 1\n",
    "        \n",
    "    if not_english > 3:\n",
    "            return False\n",
    "    else:\n",
    "        return True\n",
    "\n",
    "print(english_app('Docs To Go™ Free Office Suite'))\n",
    "print(english_app('Instachat 😜'))\n",
    "print(english_app('爱奇艺PPS -《欢乐颂2》电视剧热播'))"
   ]
  },
  {
   "cell_type": "markdown",
   "metadata": {},
   "source": [
    "While there may be a few english language apps that end up getting filtered, there shouldn't be enought to severely impact our analysis.\n",
    "\n",
    "Now, we will loop through each out the data sets and pull out the non-English apps."
   ]
  },
  {
   "cell_type": "code",
   "execution_count": 13,
   "metadata": {
    "collapsed": false
   },
   "outputs": [
    {
     "name": "stdout",
     "output_type": "stream",
     "text": [
      "['Photo Editor & Candy Camera & Grid & ScrapBook', 'ART_AND_DESIGN', '4.1', '159', '19M', '10,000+', 'Free', '0', 'Everyone', 'Art & Design', 'January 7, 2018', '1.0.0', '4.0.3 and up']\n",
      "\n",
      "\n",
      "['U Launcher Lite – FREE Live Cool Themes, Hide Apps', 'ART_AND_DESIGN', '4.7', '87510', '8.7M', '5,000,000+', 'Free', '0', 'Everyone', 'Art & Design', 'August 1, 2018', '1.2.4', '4.0.3 and up']\n",
      "\n",
      "\n",
      "['Sketch - Draw & Paint', 'ART_AND_DESIGN', '4.5', '215644', '25M', '50,000,000+', 'Free', '0', 'Teen', 'Art & Design', 'June 8, 2018', 'Varies with device', '4.2 and up']\n",
      "\n",
      "\n",
      "Number of rows: 9614\n",
      "Number of columns: 13\n",
      "\n",
      "\n",
      "['284882215', 'Facebook', '389879808', 'USD', '0.0', '2974676', '212', '3.5', '3.5', '95.0', '4+', 'Social Networking', '37', '1', '29', '1']\n",
      "\n",
      "\n",
      "['389801252', 'Instagram', '113954816', 'USD', '0.0', '2161558', '1289', '4.5', '4.0', '10.23', '12+', 'Photo & Video', '37', '0', '29', '1']\n",
      "\n",
      "\n",
      "['529479190', 'Clash of Clans', '116476928', 'USD', '0.0', '2130805', '579', '4.5', '4.5', '9.24.12', '9+', 'Games', '38', '5', '18', '1']\n",
      "\n",
      "\n",
      "Number of rows: 6183\n",
      "Number of columns: 16\n"
     ]
    }
   ],
   "source": [
    "android_english = []\n",
    "ios_english = []\n",
    "\n",
    "for app in android_clean:\n",
    "    name = app[0]\n",
    "    if english_app(name):\n",
    "        android_english.append(app)\n",
    "        \n",
    "for app in ios_dataset:\n",
    "    name = app[1]\n",
    "    if english_app(name):\n",
    "        ios_english.append(app)\n",
    "        \n",
    "explore_data(android_english,0,3, True)\n",
    "print('\\n')\n",
    "explore_data(ios_english,0,3, True)"
   ]
  },
  {
   "cell_type": "markdown",
   "metadata": {
    "collapsed": true
   },
   "source": [
    "We are left with 9,614 for the Google Play Store and 6,183 for the IOS App Store."
   ]
  },
  {
   "cell_type": "markdown",
   "metadata": {},
   "source": [
    "# Isolating Free Apps\n",
    "\n",
    "The last piece that we must remove are paid apps. Again, our company only builds apps that are free."
   ]
  },
  {
   "cell_type": "code",
   "execution_count": 14,
   "metadata": {
    "collapsed": false
   },
   "outputs": [
    {
     "name": "stdout",
     "output_type": "stream",
     "text": [
      "['Photo Editor & Candy Camera & Grid & ScrapBook', 'ART_AND_DESIGN', '4.1', '159', '19M', '10,000+', 'Free', '0', 'Everyone', 'Art & Design', 'January 7, 2018', '1.0.0', '4.0.3 and up']\n",
      "\n",
      "\n",
      "['U Launcher Lite – FREE Live Cool Themes, Hide Apps', 'ART_AND_DESIGN', '4.7', '87510', '8.7M', '5,000,000+', 'Free', '0', 'Everyone', 'Art & Design', 'August 1, 2018', '1.2.4', '4.0.3 and up']\n",
      "\n",
      "\n",
      "['Sketch - Draw & Paint', 'ART_AND_DESIGN', '4.5', '215644', '25M', '50,000,000+', 'Free', '0', 'Teen', 'Art & Design', 'June 8, 2018', 'Varies with device', '4.2 and up']\n",
      "\n",
      "\n",
      "Number of rows: 8863\n",
      "Number of columns: 13\n",
      "None\n"
     ]
    }
   ],
   "source": [
    "free_apps = []\n",
    "paid_apps = []\n",
    "\n",
    "for app in android_english:\n",
    "    price = app[6]\n",
    "    if price == 'Free':\n",
    "        free_apps.append(app)\n",
    "    \n",
    "    else:\n",
    "        paid_apps.append(app)\n",
    "\n",
    "print(explore_data(free_apps,0,3,True))"
   ]
  },
  {
   "cell_type": "code",
   "execution_count": 18,
   "metadata": {
    "collapsed": false
   },
   "outputs": [
    {
     "name": "stdout",
     "output_type": "stream",
     "text": [
      "['284882215', 'Facebook', '389879808', 'USD', '0.0', '2974676', '212', '3.5', '3.5', '95.0', '4+', 'Social Networking', '37', '1', '29', '1']\n",
      "\n",
      "\n",
      "['389801252', 'Instagram', '113954816', 'USD', '0.0', '2161558', '1289', '4.5', '4.0', '10.23', '12+', 'Photo & Video', '37', '0', '29', '1']\n",
      "\n",
      "\n",
      "['529479190', 'Clash of Clans', '116476928', 'USD', '0.0', '2130805', '579', '4.5', '4.5', '9.24.12', '9+', 'Games', '38', '5', '18', '1']\n",
      "\n",
      "\n",
      "Number of rows: 3222\n",
      "Number of columns: 16\n",
      "None\n"
     ]
    }
   ],
   "source": [
    "ios_free =[]\n",
    "ios_paid = []\n",
    "\n",
    "for app in ios_english:\n",
    "    price = app[4]\n",
    "    if price == '0.0':\n",
    "        ios_free.append(app)\n",
    "    else:\n",
    "        ios_paid.append(app)\n",
    "\n",
    "        \n",
    "        \n",
    "print(explore_data(ios_free,0,3,True))"
   ]
  },
  {
   "cell_type": "markdown",
   "metadata": {},
   "source": [
    "Our final list has 8,863 apps in the Google Play Store and 3,222 apps in the Apple App Store."
   ]
  },
  {
   "cell_type": "markdown",
   "metadata": {},
   "source": [
    "# Analysis: Most Common Apps by Genre\n",
    "\n",
    "Our goal is to create an app that attracts the most users.\n",
    "\n",
    "To minimize risks and overhead, our validation strategy for an app idea is comprised of three steps:\n",
    "\n",
    "- Build a minimal Android version of the app, and add it to Google Play.\n",
    "- If the app has a good response from users, we develop it further.\n",
    "- If the app is profitable after six months, we build an iOS version of the app and add it to the App Store.\n",
    "\n",
    "We will start our analysis by looking at the most popular genres of apps so we get a general idea of the apps we need to build.\n",
    "\n",
    "We will do this by first building two fuctions to analyze our frequency table.\n",
    "\n",
    "* The first one will build frequency tables with percentages \n",
    "* The second one will to show the percentages in descending order."
   ]
  },
  {
   "cell_type": "code",
   "execution_count": 15,
   "metadata": {
    "collapsed": true
   },
   "outputs": [],
   "source": [
    "def freq_table(dataset, index):\n",
    "    table = {}\n",
    "    total = 0\n",
    "    \n",
    "    for row in dataset:\n",
    "        total += 1\n",
    "        value = row[index]\n",
    "        if value in table:\n",
    "            table[value] += 1\n",
    "        else:\n",
    "            table[value] = 1\n",
    "    \n",
    "    table_percentages = {}\n",
    "    for key in table:\n",
    "        percentage = (table[key] / total) * 100\n",
    "        table_percentages[key] = percentage \n",
    "    \n",
    "    return table_percentages\n",
    "            \n",
    "    \n",
    "def display_table(dataset, index):\n",
    "    table = freq_table(dataset, index)\n",
    "    table_display = []\n",
    "    for key in table:\n",
    "        key_val_as_tuple = (table[key], key)\n",
    "        table_display.append(key_val_as_tuple)\n",
    "\n",
    "    table_sorted = sorted(table_display, reverse = True)\n",
    "    for entry in table_sorted:\n",
    "        print(entry[1], ':', entry[0])\n",
    "    "
   ]
  },
  {
   "cell_type": "markdown",
   "metadata": {},
   "source": [
    "Next, we'll analyze the category column in the Google Play data set."
   ]
  },
  {
   "cell_type": "code",
   "execution_count": 16,
   "metadata": {
    "collapsed": false
   },
   "outputs": [
    {
     "name": "stdout",
     "output_type": "stream",
     "text": [
      "FAMILY : 18.898792733837304\n",
      "GAME : 9.725826469592688\n",
      "TOOLS : 8.462146000225657\n",
      "BUSINESS : 4.592124562789123\n",
      "LIFESTYLE : 3.9038700214374367\n",
      "PRODUCTIVITY : 3.8925871601038025\n",
      "FINANCE : 3.7007785174320205\n",
      "MEDICAL : 3.5315355974275078\n",
      "SPORTS : 3.396141261423897\n",
      "PERSONALIZATION : 3.317161232088458\n",
      "COMMUNICATION : 3.2381812027530184\n",
      "HEALTH_AND_FITNESS : 3.0802211440821394\n",
      "PHOTOGRAPHY : 2.944826808078529\n",
      "NEWS_AND_MAGAZINES : 2.798149610741284\n",
      "SOCIAL : 2.6627552747376737\n",
      "TRAVEL_AND_LOCAL : 2.335552296062281\n",
      "SHOPPING : 2.245289405393208\n",
      "BOOKS_AND_REFERENCE : 2.1437436533904997\n",
      "DATING : 1.8616721200496444\n",
      "VIDEO_PLAYERS : 1.7939749520478394\n",
      "MAPS_AND_NAVIGATION : 1.399074805370642\n",
      "FOOD_AND_DRINK : 1.241114746699763\n",
      "EDUCATION : 1.1621347173643235\n",
      "ENTERTAINMENT : 0.9590432133589079\n",
      "LIBRARIES_AND_DEMO : 0.9364774906916393\n",
      "AUTO_AND_VEHICLES : 0.9251946293580051\n",
      "HOUSE_AND_HOME : 0.8236488773552973\n",
      "WEATHER : 0.8010831546880289\n",
      "EVENTS : 0.7108202640189552\n",
      "PARENTING : 0.6544059573507841\n",
      "ART_AND_DESIGN : 0.6431230960171499\n",
      "COMICS : 0.6205573733498815\n",
      "BEAUTY : 0.5979916506826132\n"
     ]
    }
   ],
   "source": [
    "display_table(free_apps,1)"
   ]
  },
  {
   "cell_type": "markdown",
   "metadata": {},
   "source": [
    "We can see that amongst the free, English-language apps, the Family category is double the category of the Games category. This is surprising considering that is commonly thought that games perform the best due to their addictive nature. "
   ]
  },
  {
   "cell_type": "code",
   "execution_count": 19,
   "metadata": {
    "collapsed": false
   },
   "outputs": [
    {
     "name": "stdout",
     "output_type": "stream",
     "text": [
      "Games : 58.16263190564867\n",
      "Entertainment : 7.883302296710118\n",
      "Photo & Video : 4.9658597144630665\n",
      "Education : 3.662321539416512\n",
      "Social Networking : 3.2898820608317814\n",
      "Shopping : 2.60707635009311\n",
      "Utilities : 2.5139664804469275\n",
      "Sports : 2.1415270018621975\n",
      "Music : 2.0484171322160147\n",
      "Health & Fitness : 2.0173805090006205\n",
      "Productivity : 1.7380509000620732\n",
      "Lifestyle : 1.5828677839851024\n",
      "News : 1.3345747982619491\n",
      "Travel : 1.2414649286157666\n",
      "Finance : 1.1173184357541899\n",
      "Weather : 0.8690254500310366\n",
      "Food & Drink : 0.8069522036002483\n",
      "Reference : 0.5586592178770949\n",
      "Business : 0.5276225946617008\n",
      "Book : 0.4345127250155183\n",
      "Navigation : 0.186219739292365\n",
      "Medical : 0.186219739292365\n",
      "Catalogs : 0.12414649286157665\n"
     ]
    }
   ],
   "source": [
    "display_table(ios_free, 11)"
   ]
  },
  {
   "cell_type": "markdown",
   "metadata": {},
   "source": [
    "The App Store drastically differs from the Google Play store results. Games make up more than half of the App Store.\n",
    "\n",
    "On the surface this may seem advantageous and we could easily draw the conclusion that since games are the most popular. However, we should keep in mind that this means increased competition and possibly less visibility (a more crowded category means users have more options).\n",
    "\n",
    "In order to gauge popularity, we need to look at a different metric."
   ]
  },
  {
   "cell_type": "markdown",
   "metadata": {},
   "source": [
    "# Analysis: Most popular app by genre\n",
    "\n",
    "To deepen our analysis, we want to figure out popularity guage by usage. One measure of this is the Installs column found in the Google Play data set. The App Store data set lacks a similar column, so as workaround, we will use the total number of user ratings, found in the rating count tot column."
   ]
  },
  {
   "cell_type": "code",
   "execution_count": 20,
   "metadata": {
    "collapsed": false
   },
   "outputs": [
    {
     "name": "stdout",
     "output_type": "stream",
     "text": [
      "Finance : 31467.944444444445\n",
      "Social Networking : 71548.34905660378\n",
      "Games : 22788.6696905016\n",
      "Utilities : 18684.456790123455\n",
      "Reference : 74942.11111111111\n",
      "Health & Fitness : 23298.015384615384\n",
      "Sports : 23008.898550724636\n",
      "Book : 39758.5\n",
      "Entertainment : 14029.830708661417\n",
      "Food & Drink : 33333.92307692308\n",
      "Music : 57326.530303030304\n",
      "Shopping : 26919.690476190477\n",
      "Education : 7003.983050847458\n",
      "Medical : 612.0\n",
      "News : 21248.023255813954\n",
      "Lifestyle : 16485.764705882353\n",
      "Weather : 52279.892857142855\n",
      "Photo & Video : 28441.54375\n",
      "Travel : 28243.8\n",
      "Productivity : 21028.410714285714\n",
      "Catalogs : 4004.0\n",
      "Navigation : 86090.33333333333\n",
      "Business : 7491.117647058823\n"
     ]
    }
   ],
   "source": [
    "genres_ios = freq_table(ios_free, -5)\n",
    "\n",
    "for genre in genres_ios:\n",
    "    total = 0\n",
    "    len_genre = 0\n",
    "    for app in ios_free:\n",
    "        genre_app = app[-5]\n",
    "        if genre_app == genre:            \n",
    "            n_ratings = float(app[5])\n",
    "            total += n_ratings\n",
    "            len_genre += 1\n",
    "    avg_n_ratings = total / len_genre\n",
    "    print(genre, ':', avg_n_ratings)"
   ]
  },
  {
   "cell_type": "markdown",
   "metadata": {},
   "source": [
    "In the App Store the most review app genres are navigation and social networking apps. While these types of apps are the most popular, they are difficult to build and scale. There is a [long list](https://en.wikipedia.org/wiki/List_of_defunct_social_networking_websites) of social networking apps failing. Secondly, building a [good navigation app can be costly](https://stormotion.io/blog/how-much-does-it-cost-to-create-an-app-like-waze/).\n",
    "\n",
    "Again, we want to build a free app that can be easily reach mass adoption and relies mostly on ad revenue. Therefore the 3rd and 4th most reviewed genres, weather and music are much more interesting to look at.\n",
    "\n",
    "Both of these categories focus on daily habitual user behavior, and if we find the right audience segment, we should be able get more ad clicks. "
   ]
  },
  {
   "cell_type": "code",
   "execution_count": 21,
   "metadata": {
    "collapsed": false
   },
   "outputs": [
    {
     "name": "stdout",
     "output_type": "stream",
     "text": [
      "The Weather Channel: Forecast, Radar & Alerts : 495626\n",
      "The Weather Channel App for iPad – best local forecast, radar map, and storm tracking : 208648\n",
      "WeatherBug - Local Weather, Radar, Maps, Alerts : 188583\n",
      "MyRadar NOAA Weather Radar Forecast : 150158\n",
      "AccuWeather - Weather for Life : 144214\n",
      "Yahoo Weather : 112603\n",
      "Weather Underground: Custom Forecast & Local Radar : 49192\n",
      "NOAA Weather Radar - Weather Forecast & HD Radar : 45696\n",
      "Weather Live Free - Weather Forecast & Alerts : 35702\n",
      "Storm Radar : 22792\n",
      "QuakeFeed Earthquake Map, Alerts, and News : 6081\n",
      "Moji Weather - Free Weather Forecast : 2333\n",
      "Hurricane by American Red Cross : 1158\n",
      "Forecast Bar : 375\n",
      "Hurricane Tracker WESH 2 Orlando, Central Florida : 203\n",
      "FEMA : 128\n",
      "iWeather - World weather forecast : 80\n",
      "Weather - Radar - Storm with Morecast App : 78\n",
      "Yurekuru Call : 53\n",
      "Weather & Radar : 37\n",
      "WRAL Weather Alert : 25\n",
      "Météo-France : 24\n",
      "JaxReady : 22\n",
      "Freddy the Frogcaster's Weather Station : 14\n",
      "Almanac Long-Range Weather Forecast : 12\n",
      "TodayAir : 0\n",
      "wetter.com : 0\n",
      "WarnWetter : 0\n"
     ]
    }
   ],
   "source": [
    "for app in ios_free:\n",
    "    if app[-5] == 'Weather':\n",
    "        print(app[1],':', app[5])"
   ]
  },
  {
   "cell_type": "markdown",
   "metadata": {},
   "source": [
    "It seems that in the weather category, there's a drastic difference between the top 5 apps and the rest of the apps. This may mean the space is harder to break into because a few key players dominate the space. "
   ]
  },
  {
   "cell_type": "code",
   "execution_count": 22,
   "metadata": {
    "collapsed": false
   },
   "outputs": [
    {
     "name": "stdout",
     "output_type": "stream",
     "text": [
      "Pandora - Music & Radio : 1126879\n",
      "Spotify Music : 878563\n",
      "Shazam - Discover music, artists, videos & lyrics : 402925\n",
      "iHeartRadio – Free Music & Radio Stations : 293228\n",
      "SoundCloud - Music & Audio : 135744\n",
      "Magic Piano by Smule : 131695\n",
      "Smule Sing! : 119316\n",
      "TuneIn Radio - MLB NBA Audiobooks Podcasts Music : 110420\n",
      "Amazon Music : 106235\n",
      "SoundHound Song Search & Music Player : 82602\n",
      "Sonos Controller : 48905\n",
      "Bandsintown Concerts : 30845\n",
      "Karaoke - Sing Karaoke, Unlimited Songs! : 28606\n",
      "My Mixtapez Music : 26286\n",
      "Sing Karaoke Songs Unlimited with StarMaker : 26227\n",
      "Ringtones for iPhone & Ringtone Maker : 25403\n",
      "Musi - Unlimited Music For YouTube : 25193\n",
      "AutoRap by Smule : 18202\n",
      "Spinrilla - Mixtapes For Free : 15053\n",
      "Napster - Top Music & Radio : 14268\n",
      "edjing Mix:DJ turntable to remix and scratch music : 13580\n",
      "Free Music - MP3 Streamer & Playlist Manager Pro : 13443\n",
      "Free Piano app by Yokee : 13016\n",
      "Google Play Music : 10118\n",
      "Certified Mixtapes - Hip Hop Albums & Mixtapes : 9975\n",
      "TIDAL : 7398\n",
      "YouTube Music : 7109\n",
      "Nicki Minaj: The Empire : 5196\n",
      "Sounds app - Music And Friends : 5126\n",
      "SongFlip - Free Music Streamer : 5004\n",
      "Simple Radio - Live AM & FM Radio Stations : 4787\n",
      "Deezer - Listen to your Favorite Music & Playlists : 4677\n",
      "Ringtones for iPhone with Ringtone Maker : 4013\n",
      "Bose SoundTouch : 3687\n",
      "Amazon Alexa : 3018\n",
      "DatPiff : 2815\n",
      "Trebel Music - Unlimited Music Downloader : 2570\n",
      "Free Music Play - Mp3 Streamer & Player : 2496\n",
      "Acapella from PicPlayPost : 2487\n",
      "Coach Guitar - Lessons & Easy Tabs For Beginners : 2416\n",
      "Musicloud - MP3 and FLAC Music Player for Cloud Platforms. : 2211\n",
      "Piano - Play Keyboard Music Games with Magic Tiles : 1636\n",
      "Boom: Best Equalizer & Magical Surround Sound : 1375\n",
      "Music Freedom - Unlimited Free MP3 Music Streaming : 1246\n",
      "AmpMe - A Portable Social Party Music Speaker : 1047\n",
      "Medly - Music Maker : 933\n",
      "Bose Connect : 915\n",
      "Music Memos : 909\n",
      "UE BOOM : 612\n",
      "LiveMixtapes : 555\n",
      "NOISE : 355\n",
      "MP3 Music Player & Streamer for Clouds : 329\n",
      "Musical Video Maker - Create Music clips lip sync : 320\n",
      "Cloud Music Player - Downloader & Playlist Manager : 319\n",
      "Remixlive - Remix loops with pads : 288\n",
      "QQ音乐HD : 224\n",
      "Blocs Wave - Make & Record Music : 158\n",
      "PlayGround • Music At Your Fingertips : 150\n",
      "Music and Chill : 135\n",
      "The Singing Machine Mobile Karaoke App : 130\n",
      "radio.de - Der Radioplayer : 64\n",
      "Free Music -  Player & Streamer  for Dropbox, OneDrive & Google Drive : 46\n",
      "NRJ Radio : 38\n",
      "Smart Music: Streaming Videos and Radio : 17\n",
      "BOSS Tuner : 13\n",
      "PetitLyrics : 0\n"
     ]
    }
   ],
   "source": [
    "for app in ios_free:\n",
    "    if app[-5] == 'Music':\n",
    "        print(app[1],':', app[5])"
   ]
  },
  {
   "cell_type": "markdown",
   "metadata": {},
   "source": [
    "The music section does have a few key players that dominate the list, but those are streaming and song recognition apps. Three of the top 15 apps are karaoke apps while one is a concert alert app. There is also less than 50 apps in this category making it less saturated than a general game app.\n",
    "\n",
    "For the App Store, I reccomend the company builds a karaoke app. \n",
    "\n",
    "Now let's analyze the Google Play store."
   ]
  },
  {
   "cell_type": "code",
   "execution_count": 23,
   "metadata": {
    "collapsed": false
   },
   "outputs": [
    {
     "name": "stdout",
     "output_type": "stream",
     "text": [
      "1,000,000+ : 15.728308699086089\n",
      "100,000+ : 11.55365000564143\n",
      "10,000,000+ : 10.549475346947986\n",
      "10,000+ : 10.199706645605326\n",
      "1,000+ : 8.394448832223853\n",
      "100+ : 6.916393997517771\n",
      "5,000,000+ : 6.826131106848697\n",
      "500,000+ : 5.562450637481666\n",
      "50,000+ : 4.772650344127271\n",
      "5,000+ : 4.513144533453684\n",
      "10+ : 3.542818458761142\n",
      "500+ : 3.2494640640866526\n",
      "50,000,000+ : 2.3017037120613786\n",
      "100,000,000+ : 2.1324607920568655\n",
      "50+ : 1.9180864267178157\n",
      "5+ : 0.7898002933543946\n",
      "1+ : 0.5077287600135394\n",
      "500,000,000+ : 0.270788672007221\n",
      "1,000,000,000+ : 0.2256572266726842\n",
      "0+ : 0.045131445334536835\n"
     ]
    }
   ],
   "source": [
    "display_table(free_apps, 5)"
   ]
  },
  {
   "cell_type": "markdown",
   "metadata": {
    "collapsed": true
   },
   "source": [
    "While this is helpful, the data isn't very precise. For example, we don't know if the data if apps in the 5,000+ category got 10,000 installs or 20,0000.\n",
    "\n",
    "Since our analysis is more high-level, we can create a new criteria: we can assume the the listed install number is the install number. For example, we will assume that an app with 5,000+ installs has 5,000 installs and so on.\n",
    "\n",
    "First, in order to do this, we must convert the install numbers from stings to floats. "
   ]
  },
  {
   "cell_type": "code",
   "execution_count": 24,
   "metadata": {
    "collapsed": false
   },
   "outputs": [
    {
     "data": {
      "text/plain": [
       "{'ART_AND_DESIGN': 0.6431230960171499,\n",
       " 'AUTO_AND_VEHICLES': 0.9251946293580051,\n",
       " 'BEAUTY': 0.5979916506826132,\n",
       " 'BOOKS_AND_REFERENCE': 2.1437436533904997,\n",
       " 'BUSINESS': 4.592124562789123,\n",
       " 'COMICS': 0.6205573733498815,\n",
       " 'COMMUNICATION': 3.2381812027530184,\n",
       " 'DATING': 1.8616721200496444,\n",
       " 'EDUCATION': 1.1621347173643235,\n",
       " 'ENTERTAINMENT': 0.9590432133589079,\n",
       " 'EVENTS': 0.7108202640189552,\n",
       " 'FAMILY': 18.898792733837304,\n",
       " 'FINANCE': 3.7007785174320205,\n",
       " 'FOOD_AND_DRINK': 1.241114746699763,\n",
       " 'GAME': 9.725826469592688,\n",
       " 'HEALTH_AND_FITNESS': 3.0802211440821394,\n",
       " 'HOUSE_AND_HOME': 0.8236488773552973,\n",
       " 'LIBRARIES_AND_DEMO': 0.9364774906916393,\n",
       " 'LIFESTYLE': 3.9038700214374367,\n",
       " 'MAPS_AND_NAVIGATION': 1.399074805370642,\n",
       " 'MEDICAL': 3.5315355974275078,\n",
       " 'NEWS_AND_MAGAZINES': 2.798149610741284,\n",
       " 'PARENTING': 0.6544059573507841,\n",
       " 'PERSONALIZATION': 3.317161232088458,\n",
       " 'PHOTOGRAPHY': 2.944826808078529,\n",
       " 'PRODUCTIVITY': 3.8925871601038025,\n",
       " 'SHOPPING': 2.245289405393208,\n",
       " 'SOCIAL': 2.6627552747376737,\n",
       " 'SPORTS': 3.396141261423897,\n",
       " 'TOOLS': 8.462146000225657,\n",
       " 'TRAVEL_AND_LOCAL': 2.335552296062281,\n",
       " 'VIDEO_PLAYERS': 1.7939749520478394,\n",
       " 'WEATHER': 0.8010831546880289}"
      ]
     },
     "execution_count": 24,
     "metadata": {},
     "output_type": "execute_result"
    }
   ],
   "source": [
    "freq_table(free_apps,1)"
   ]
  },
  {
   "cell_type": "code",
   "execution_count": 33,
   "metadata": {
    "collapsed": false
   },
   "outputs": [
    {
     "name": "stdout",
     "output_type": "stream",
     "text": [
      "NEWS_AND_MAGAZINES : 9549178.467741935\n",
      "DATING : 854028.8303030303\n",
      "FAMILY : 3697848.1731343283\n",
      "BEAUTY : 513151.88679245283\n",
      "HOUSE_AND_HOME : 1331540.5616438356\n",
      "BUSINESS : 1712290.1474201474\n",
      "AUTO_AND_VEHICLES : 647317.8170731707\n",
      "PHOTOGRAPHY : 17840110.40229885\n",
      "ENTERTAINMENT : 11640705.88235294\n",
      "BOOKS_AND_REFERENCE : 8767811.894736841\n",
      "COMMUNICATION : 38456119.167247385\n",
      "TRAVEL_AND_LOCAL : 13984077.710144928\n",
      "SPORTS : 3638640.1428571427\n",
      "COMICS : 817657.2727272727\n",
      "FOOD_AND_DRINK : 1924897.7363636363\n",
      "EDUCATION : 1833495.145631068\n",
      "FINANCE : 1387692.475609756\n",
      "ART_AND_DESIGN : 1986335.0877192982\n",
      "VIDEO_PLAYERS : 24727872.452830188\n",
      "GAME : 15588015.603248259\n",
      "LIFESTYLE : 1437816.2687861272\n",
      "LIBRARIES_AND_DEMO : 638503.734939759\n",
      "PERSONALIZATION : 5201482.6122448975\n",
      "SOCIAL : 23253652.127118643\n",
      "HEALTH_AND_FITNESS : 4188821.9853479853\n",
      "TOOLS : 10801391.298666667\n",
      "MEDICAL : 120550.61980830671\n",
      "EVENTS : 253542.22222222222\n",
      "PARENTING : 542603.6206896552\n",
      "SHOPPING : 7036877.311557789\n",
      "MAPS_AND_NAVIGATION : 4056941.7741935486\n",
      "WEATHER : 5074486.197183099\n",
      "PRODUCTIVITY : 16787331.344927534\n"
     ]
    }
   ],
   "source": [
    "categories_free= freq_table(free_apps, 1)\n",
    "for genre in categories_free:\n",
    "    total = 0\n",
    "    len_category = 0\n",
    "    for app in free_apps:\n",
    "        category_app = app[1]\n",
    "        if category_app == genre:\n",
    "            n_installs = app[5]\n",
    "            n_installs = n_installs.replace(',','')\n",
    "            n_installs = n_installs.replace('+','')\n",
    "            total += float(n_installs)\n",
    "            len_category += 1      \n",
    "    avg_n_installs = total/ len_category\n",
    "    print(genre, ':', avg_n_installs)"
   ]
  },
  {
   "cell_type": "markdown",
   "metadata": {},
   "source": [
    "The communication category performs the best with an average of 38 millions installs."
   ]
  },
  {
   "cell_type": "code",
   "execution_count": 38,
   "metadata": {
    "collapsed": false
   },
   "outputs": [
    {
     "name": "stdout",
     "output_type": "stream",
     "text": [
      "WhatsApp Messenger : 1,000,000,000+\n",
      "Messenger for SMS : 10,000,000+\n",
      "My Tele2 : 5,000,000+\n",
      "imo beta free calls and text : 100,000,000+\n",
      "Contacts : 50,000,000+\n",
      "Call Free – Free Call : 5,000,000+\n",
      "Web Browser & Explorer : 5,000,000+\n",
      "Browser 4G : 10,000,000+\n",
      "MegaFon Dashboard : 10,000,000+\n",
      "ZenUI Dialer & Contacts : 10,000,000+\n",
      "Cricket Visual Voicemail : 10,000,000+\n",
      "TracFone My Account : 1,000,000+\n",
      "Xperia Link™ : 10,000,000+\n",
      "TouchPal Keyboard - Fun Emoji & Android Keyboard : 10,000,000+\n",
      "Skype Lite - Free Video Call & Chat : 5,000,000+\n",
      "My magenta : 1,000,000+\n",
      "Android Messages : 100,000,000+\n",
      "Google Duo - High Quality Video Calls : 500,000,000+\n",
      "Seznam.cz : 1,000,000+\n",
      "Antillean Gold Telegram (original version) : 100,000+\n",
      "AT&T Visual Voicemail : 10,000,000+\n",
      "GMX Mail : 10,000,000+\n",
      "Omlet Chat : 10,000,000+\n",
      "My Vodacom SA : 5,000,000+\n",
      "Microsoft Edge : 5,000,000+\n",
      "Messenger – Text and Video Chat for Free : 1,000,000,000+\n",
      "imo free video calls and chat : 500,000,000+\n",
      "Calls & Text by Mo+ : 5,000,000+\n",
      "free video calls and chat : 50,000,000+\n",
      "Skype - free IM & video calls : 1,000,000,000+\n",
      "Who : 100,000,000+\n",
      "GO SMS Pro - Messenger, Free Themes, Emoji : 100,000,000+\n",
      "Messaging+ SMS, MMS Free : 1,000,000+\n",
      "chomp SMS : 10,000,000+\n",
      "Glide - Video Chat Messenger : 10,000,000+\n",
      "Text SMS : 10,000,000+\n",
      "Talkray - Free Calls & Texts : 10,000,000+\n",
      "LINE: Free Calls & Messages : 500,000,000+\n",
      "GroupMe : 10,000,000+\n",
      "mysms SMS Text Messaging Sync : 1,000,000+\n",
      "2ndLine - Second Phone Number : 1,000,000+\n",
      "Google Chrome: Fast & Secure : 1,000,000,000+\n",
      "Firefox Browser fast & private : 100,000,000+\n",
      "Ninesky Browser : 1,000,000+\n",
      "Dolphin Browser - Fast, Private & Adblock🐬 : 50,000,000+\n",
      "UC Browser - Fast Download Private & Secure : 500,000,000+\n",
      "Ghostery Privacy Browser : 1,000,000+\n",
      "InBrowser - Incognito Browsing : 1,000,000+\n",
      "Lightning Web Browser : 500,000+\n",
      "Web Browser : 500,000+\n",
      "Contacts+ : 10,000,000+\n",
      "ExDialer - Dialer & Contacts : 10,000,000+\n",
      "PHONE for Google Voice & GTalk : 1,000,000+\n",
      "Safest Call Blocker : 1,000,000+\n",
      "Full Screen Caller ID : 5,000,000+\n",
      "Hiya - Caller ID & Block : 10,000,000+\n",
      "Mr. Number-Block calls & spam : 10,000,000+\n",
      "Should I Answer? : 1,000,000+\n",
      "RocketDial Dialer & Contacts : 1,000,000+\n",
      "CIA - Caller ID & Call Blocker : 5,000,000+\n",
      "Calls Blacklist - Call Blocker : 10,000,000+\n",
      "Call Control - Call Blocker : 5,000,000+\n",
      "True Contact - Real Caller ID : 1,000,000+\n",
      "Video Caller Id : 1,000,000+\n",
      "Sync.ME – Caller ID & Block : 5,000,000+\n",
      "Burner - Free Phone Number : 1,000,000+\n",
      "Caller ID + : 1,000,000+\n",
      "Gmail : 1,000,000,000+\n",
      "K-9 Mail : 5,000,000+\n",
      "myMail – Email for Hotmail, Gmail and Outlook Mail : 10,000,000+\n",
      "Email TypeApp - Mail App : 1,000,000+\n",
      "All Email Providers : 1,000,000+\n",
      "Newton Mail - Email App for Gmail, Outlook, IMAP : 1,000,000+\n",
      "GO Notifier : 10,000,000+\n",
      "Mail.Ru - Email App : 50,000,000+\n",
      "Mail1Click - Secure Mail : 10,000+\n",
      "Daum Mail - Next Mail : 5,000,000+\n",
      "mail.com mail : 1,000,000+\n",
      "SolMail - All-in-One email app : 500,000+\n",
      "Hangouts : 1,000,000,000+\n",
      "Vonage Mobile® Call Video Text : 1,000,000+\n",
      "JusTalk - Free Video Calls and Fun Video Chat : 5,000,000+\n",
      "Azar : 50,000,000+\n",
      "LokLok: Draw on a Lock Screen : 500,000+\n",
      "Discord - Chat for Gamers : 10,000,000+\n",
      "Messenger Lite: Free Calls & Messages : 100,000,000+\n",
      "AntennaPict β : 1,000,000+\n",
      "Talkatone: Free Texts, Calls & Phone Number : 10,000,000+\n",
      "Kik : 100,000,000+\n",
      "K-@ Mail - Email App : 100,000+\n",
      "KakaoTalk: Free Calls & Text : 100,000,000+\n",
      "K-9 Material (unofficial) : 5,000+\n",
      "M star Dialer : 100,000+\n",
      "Free WiFi Connect : 10,000,000+\n",
      "m:go BiH : 10,000+\n",
      "N-Com Wizard : 50,000+\n",
      "Opera Mini - fast web browser : 100,000,000+\n",
      "Opera Browser: Fast and Secure : 100,000,000+\n",
      "Opera Mini browser beta : 10,000,000+\n",
      "Psiphon Pro - The Internet Freedom VPN : 10,000,000+\n",
      "ICQ — Video Calls & Chat Messenger : 10,000,000+\n",
      "Telegram : 100,000,000+\n",
      "AT&T Messages for Tablet : 1,000,000+\n",
      "T-Mobile DIGITS : 100,000+\n",
      "Truecaller: Caller ID, SMS spam blocking & Dialer : 100,000,000+\n",
      "Portable Wi-Fi hotspot : 10,000,000+\n",
      "AT&T Call Protect : 5,000,000+\n",
      "U - Webinars, Meetings & Messenger : 500,000+\n",
      "UC Browser Mini -Tiny Fast Private & Secure : 100,000,000+\n",
      "/u/app : 10,000+\n",
      "[verify-U] VideoIdent : 10,000+\n",
      "Viber Messenger : 500,000,000+\n",
      "WeChat : 100,000,000+\n",
      "WhatsApp Business : 10,000,000+\n",
      "WhatsCall Free Global Phone Call App & Cheap Calls : 10,000,000+\n",
      "X Browser : 50,000+\n",
      "Yahoo Mail – Stay Organized : 100,000,000+\n",
      "Free Adblocker Browser - Adblock & Popup Blocker : 10,000,000+\n",
      "Adblock Browser for Android : 10,000,000+\n",
      "CM Browser - Ad Blocker , Fast Download , Privacy : 50,000,000+\n",
      "Adblock Plus for Samsung Internet - Browse safe. : 1,000,000+\n",
      "Ad Blocker Turbo - Adblocker Browser : 10,000+\n",
      "Brave Browser: Fast AdBlocker : 5,000,000+\n",
      "AG Contacts, Lite edition : 5,000+\n",
      "Oklahoma Ag Co-op Council : 10+\n",
      "Bee'ah Employee App : 100+\n",
      "tournaments and more.aj.2 : 100+\n",
      "Aj.Petra : 100+\n",
      "AK Phone : 5,000+\n",
      "PlacarTv Futebol Ao Vivo : 100,000+\n",
      "WiFi Access Point (hotspot) : 100,000+\n",
      "Access Point Names : 10,000+\n",
      "Puffin Web Browser : 10,000,000+\n",
      "ClanHQ : 10,000+\n",
      "Ear Agent: Super Hearing : 5,000,000+\n",
      "Google Voice : 10,000,000+\n",
      "Google Allo : 10,000,000+\n",
      "AU Call Blocker - Block Unwanted Calls Texts 2018 : 1,000+\n",
      "Baby Monitor AV : 100,000+\n",
      "AV Phone : 1,000+\n",
      "AW - free video calls and chat : 1,000,000+\n",
      "Katalogen.ax : 100+\n",
      "AZ Browser. Private & Download : 100,000+\n",
      "BA SALES : 1+\n",
      "BD Data Plan (3G & 4G) : 500,000+\n",
      "BD Internet Packages (Updated) : 50,000+\n",
      "BD Dialer : 10,000+\n",
      "BD Live Call : 5,000+\n",
      "Best Browser BD social networking : 10+\n",
      "Traffic signs BD : 500+\n",
      "BF Browser by Betfilter - Stop Gambling Today! : 10,000+\n",
      "My BF App : 50,000+\n",
      "BH Mail : 1,000+\n",
      "Zalo – Video Call : 50,000,000+\n",
      "BJ - Confidential : 10+\n",
      "BK Chat : 1,000+\n",
      "Of the wall Arapaho bk : 5+\n",
      "AC-BL : 50+\n",
      "BBM - Free Calls & Messages : 100,000,000+\n",
      "DMR BrandMeister Tool : 10,000+\n",
      "BBMoji - Your personalized BBM Stickers : 1,000,000+\n",
      "BN MALLORCA Radio : 1,000+\n",
      "BQ Partners : 1,000+\n",
      "BS-Mobile : 50+\n",
      "ATC Unico BS : 500+\n",
      "BT One Voice mobile access : 5,000+\n",
      "BT Messenger : 50,000+\n",
      "BT One Phone Mobile App : 10,000+\n",
      "SW-100.tch by Callstel : 1,000,000+\n",
      "BT MeetMe with Dolby Voice : 100,000+\n",
      "Bluetooth Auto Connect : 5,000,000+\n",
      "AudioBT: BT audio GPS/SMS/Text : 50,000+\n",
      "BV : 100+\n",
      "Feel Performer : 10,000+\n",
      "Tiny Call Confirm : 1,000,000+\n",
      "CB Radio Chat - for friends! : 1,000,000+\n",
      "CB On Mobile : 100,000+\n",
      "Virtual Walkie Talkie : 1,000,000+\n",
      "Channel 19 : 100,000+\n",
      "Cb browser : 50+\n",
      "CF Chat: Connecting Friends : 100+\n",
      "retteMi.ch : 5,000+\n",
      "Chrome Dev : 5,000,000+\n",
      "CJ Browser - Fast & Private : 100+\n",
      "CJ DVD Rentals : 100+\n",
      "CK Call NEW : 10+\n",
      "CM Transfer - Share any files with friends nearby : 5,000,000+\n",
      "mail.co.uk Mail : 5,000+\n",
      "ClanPlay: Community and Tools for Gamers : 1,000,000+\n",
      "CQ-Mobile : 1,000+\n",
      "CQ-Alert : 500+\n",
      "QRZ Assistant : 100,000+\n",
      "Pocket Prefix Plus : 10,000+\n",
      "Ham Radio Prefixes : 10,000+\n",
      "CS Customizer : 1,000+\n",
      "CS Browser | #1 & BEST BROWSER : 1,000+\n",
      "CS Browser Beta : 5,000+\n",
      "My Vodafone (GR) : 1,000,000+\n",
      "IZ2UUF Morse Koch CW : 50,000+\n",
      "C W Browser : 100+\n",
      "CW Bluetooth SPP : 100+\n",
      "CW BLE Peripheral Simulator : 500+\n",
      "Morse Code Reader : 100,000+\n",
      "Learn Morse Code - G0HYN Learn Morse : 5,000+\n",
      "Ring : 10,000+\n",
      "Hyundai CX Conference : 50+\n",
      "Cy Messenger : 100+\n",
      "Amadeus GR & CY : 100+\n",
      "Hlášenírozhlasu.cz : 10+\n",
      "SMS Sender - sluzba.cz : 1,000+\n",
      "WEB.DE Mail : 10,000,000+\n",
      "Your Freedom VPN Client : 5,000,000+\n",
      "CallApp: Caller ID, Blocker & Phone Call Recorder : 10,000,000+\n",
      "Rádio Sol Nascente DF : 500+\n",
      "DG Card : 100+\n",
      "Whoscall - Caller ID & Block : 10,000,000+\n",
      "DK Browser : 10+\n",
      "cluster.dk : 1,000+\n",
      "DK TEL Dialer : 50+\n",
      "DM for WhatsApp : 5,000+\n",
      "DM Talk New : 5,000+\n",
      "DM - The Offical Messaging App : 10+\n",
      "DM Tracker : 1,000+\n",
      "Call Blocker & Blacklist : 1,000+\n",
      "ReadyOp DT : 1,000+\n",
      "DU Browser—Browse fast & fun : 10,000,000+\n",
      "Caller ID & Call Block - DU Caller : 5,000,000+\n",
      "BlueDV AMBE : 1,000+\n",
      "DW Contacts & Phone & Dialer : 1,000,000+\n",
      "Deaf World DW : 10,000+\n",
      "Ham DX Cluster & Spots Finder : 5,000+\n",
      "Mircules DX Cluster Lite : 5,000+\n",
      "3G DZ Configuration : 50,000+\n",
      "chat dz : 100+\n",
      "love sms good morning : 5,000+\n",
      "Goodbox - Mega App : 100,000+\n",
      "Call Blocker - Blacklist, SMS Blocker : 1,000,000+\n",
      "[EF]ShoutBox : 100+\n",
      "Eg Call : 10,000+\n",
      "ei : 10+\n",
      "EJ messenger : 10+\n",
      "Ek IRA : 10+\n",
      "Orfox: Tor Browser for Android : 10,000,000+\n",
      "EO Mumbai : 10+\n",
      "EP RSS Reader : 100+\n",
      "Voxer Walkie Talkie Messenger : 10,000,000+\n",
      "ES-1 : 500+\n",
      "Hangouts Dialer - Call Phones : 10,000,000+\n",
      "EU Council : 1,000+\n",
      "Council Voting Calculator : 5,000+\n",
      "Have your say on Europe : 500+\n",
      "Programi podrške EU : 100+\n",
      "Inbox.eu : 10,000+\n",
      "Web Browser for Android : 1,000,000+\n",
      "Everbridge : 100,000+\n",
      "Best Auto Call Recorder Free : 500+\n",
      "EZ Wifi Notification : 10,000+\n",
      "Test Server SMS FA : 5+\n",
      "Lite for Facebook Messenger : 1,000,000+\n",
      "FC Browser - Focus Privacy Browser : 1,000+\n",
      "EHiN-FH conferenceapp : 100+\n",
      "Carpooling FH Hagenberg : 100+\n",
      "Wi-Fi Auto-connect : 1,000,000+\n",
      "Talkie - Wi-Fi Calling, Chats, File Sharing : 500,000+\n",
      "WeFi - Free Fast WiFi Connect & Find Wi-Fi Map : 1,000,000+\n",
      "Sat-Fi : 5,000+\n",
      "Portable Wi-Fi hotspot Free : 100,000+\n",
      "TownWiFi | Wi-Fi Everywhere : 500,000+\n",
      "Jazz Wi-Fi : 10,000+\n",
      "Sat-Fi Voice : 1,000+\n",
      "Free Wi-fi HotspoT : 50,000+\n",
      "FN Web Radio : 10+\n",
      "FNH Payment Info : 10+\n",
      "MARKET FO : 100+\n",
      "FO OP St-Nazaire : 100+\n",
      "FO SODEXO : 100+\n",
      "FO RCBT : 100+\n",
      "FO Interim : 100+\n",
      "FO PSA Sept-Fons : 100+\n",
      "FO AIRBUS TLSE : 1,000+\n",
      "FO STELIA Méaulte : 100+\n",
      "FO AIRBUS Nantes : 100+\n",
      "Firefox Focus: The privacy browser : 1,000,000+\n",
      "FP Connect : 100+\n",
      "FreedomPop Messaging Phone/SIM : 500,000+\n",
      "FP Live : 10+\n",
      "HipChat - beta version : 50,000+\n"
     ]
    }
   ],
   "source": [
    "for app in free_apps:\n",
    "    if app[1] == 'COMMUNICATION':\n",
    "        print(app[0],':', app[5])"
   ]
  },
  {
   "cell_type": "markdown",
   "metadata": {},
   "source": [
    "Just from doing a quick browse, we can see that this genre is already saturated. Let's try looking at a less competitive space."
   ]
  },
  {
   "cell_type": "code",
   "execution_count": 39,
   "metadata": {
    "collapsed": false
   },
   "outputs": [
    {
     "name": "stdout",
     "output_type": "stream",
     "text": [
      "Microsoft Word : 500,000,000+\n",
      "All-In-One Toolbox: Cleaner, Booster, App Manager : 10,000,000+\n",
      "AVG Cleaner – Speed, Battery & Memory Booster : 10,000,000+\n",
      "QR Scanner & Barcode Scanner 2018 : 10,000,000+\n",
      "Chrome Beta : 10,000,000+\n",
      "Microsoft Outlook : 100,000,000+\n",
      "Google PDF Viewer : 10,000,000+\n",
      "My Claro Peru : 5,000,000+\n",
      "Power Booster - Junk Cleaner & CPU Cooler & Boost : 1,000,000+\n",
      "Google Assistant : 10,000,000+\n",
      "Microsoft OneDrive : 100,000,000+\n",
      "Calculator - unit converter : 50,000,000+\n",
      "Microsoft OneNote : 100,000,000+\n",
      "Metro name iD : 10,000,000+\n",
      "Google Keep : 100,000,000+\n",
      "Archos File Manager : 5,000,000+\n",
      "ES File Explorer File Manager : 100,000,000+\n",
      "ASUS SuperNote : 10,000,000+\n",
      "HTC File Manager : 10,000,000+\n",
      "MyMTN : 1,000,000+\n",
      "Dropbox : 500,000,000+\n",
      "ASUS Quick Memo : 10,000,000+\n",
      "HTC Calendar : 10,000,000+\n",
      "Google Docs : 100,000,000+\n",
      "ASUS Calling Screen : 10,000,000+\n",
      "lifebox : 5,000,000+\n",
      "Yandex.Disk : 5,000,000+\n",
      "Content Transfer : 5,000,000+\n",
      "HTC Mail : 10,000,000+\n",
      "Advanced Task Killer : 50,000,000+\n",
      "MyVodafone (India) - Online Recharge & Pay Bills : 10,000,000+\n",
      "Microsoft PowerPoint : 100,000,000+\n",
      "Microsoft Translator : 5,000,000+\n",
      "My Airtel-Online Recharge, Pay Bill, Wallet, UPI : 50,000,000+\n",
      "Samsung Notes : 100,000,000+\n",
      "Do It Later: Tasks & To-Dos : 50,000,000+\n",
      "Verizon Cloud : 50,000,000+\n",
      "myAT&T : 50,000,000+\n",
      "SwiftKey Keyboard : 100,000,000+\n",
      "Hacker's Keyboard : 1,000,000+\n",
      "MEGA : 50,000,000+\n",
      "Security & Privacy : 1,000,000+\n",
      "7 Weeks - Habit & Goal Tracker : 500,000+\n",
      "Loop - Habit Tracker : 1,000,000+\n",
      "TickTick: To Do List with Reminder, Day Planner : 1,000,000+\n",
      "Keeper: Free Password Manager & Secure Vault : 10,000,000+\n",
      "Pushbullet - SMS on PC : 1,000,000+\n",
      "Wunderlist: To-Do List & Tasks : 10,000,000+\n",
      "Planner Pro-Personal Organizer : 1,000,000+\n",
      "Todoist: To-do lists for task management & errands : 10,000,000+\n",
      "Cozi Family Organizer : 1,000,000+\n",
      "IFTTT : 1,000,000+\n",
      "Trello : 5,000,000+\n",
      "Easy Voice Recorder : 10,000,000+\n",
      "Dashlane Free Password Manager : 1,000,000+\n",
      "CM FILE MANAGER HD : 10,000,000+\n",
      "Solid Explorer Classic : 1,000,000+\n",
      "File Browser by Astro (File Manager) : 50,000,000+\n",
      "File Explorer : 100,000+\n",
      "The Maner : 5,000,000+\n",
      "AndroZip™ FREE File Manager : 10,000,000+\n",
      "Solid Explorer File Manager : 1,000,000+\n",
      "Smart File Manager : 1,000,000+\n",
      "Google Drive : 1,000,000,000+\n",
      "Adobe Acrobat Reader : 100,000,000+\n",
      "Google Sheets : 100,000,000+\n",
      "Microsoft Excel : 100,000,000+\n",
      "Polaris Office - Word, Docs, Sheets, Slide, PDF : 10,000,000+\n",
      "WPS Office - Word, Docs, PDF, Note, Slide & Sheet : 100,000,000+\n",
      "Google Slides : 100,000,000+\n",
      "ColorNote Notepad Notes : 100,000,000+\n",
      "Note Everything : 5,000,000+\n",
      "Simple Notepad : 1,000,000+\n",
      "Keep My Notes - Notepad & Memo : 5,000,000+\n",
      "Sticky Note + : Sync Notes : 1,000,000+\n",
      "Notepad : 10,000,000+\n",
      "Squid - Take Notes & Markup PDFs : 1,000,000+\n",
      "Ultimate Notepad : 5,000,000+\n",
      "Notepad & To do list : 10,000,000+\n",
      "JotterPad - Writer, Screenplay, Novel : 1,000,000+\n",
      "Evernote – Organizer, Planner for Notes & Memos : 100,000,000+\n",
      "Any.do: To-do list, Calendar, Reminders & Planner : 10,000,000+\n",
      "Planning Center Services : 500,000+\n",
      "Calendar+ Schedule Planner App : 1,000,000+\n",
      "Today Calendar 2017 : 1,000,000+\n",
      "To-Do Calendar Planner : 1,000,000+\n",
      "New Calendar : 1,000,000+\n",
      "Calendar Widget Month + Agenda : 5,000,000+\n",
      "DigiCal Calendar Agenda : 5,000,000+\n",
      "Time Recording - Timesheet App : 1,000,000+\n",
      "Jorte Calendar & Organizer : 10,000,000+\n",
      "Business Calendar 2 : 5,000,000+\n",
      "Google Calendar : 500,000,000+\n",
      "aCalendar - Android Phone : 10,000,000+\n",
      "G Cloud Backup : 5,000,000+\n",
      "Unclouded - Cloud Manager : 100,000+\n",
      "Amazon Drive : 1,000,000+\n",
      "SugarSync : 1,000,000+\n",
      "pCloud: Free Cloud Storage : 1,000,000+\n",
      "MediaFire : 5,000,000+\n",
      "Cloud Print : 500,000,000+\n",
      "Fake Call - Fake Caller ID : 10,000,000+\n",
      "AutoCAD - DWG Viewer & Editor : 10,000,000+\n",
      "Alt-C : 10,000+\n",
      "My C Spire : 50,000+\n",
      "Mobile Security & Antivirus : 10,000,000+\n",
      "EX File Explorer File Manager : 1,000,000+\n",
      "EBookDroid - PDF & DJVU Reader : 5,000,000+\n",
      "Inputting Plus: Ctrl + Z/F/C/V : 50,000+\n",
      "CTRL-F - Search the real world : 50,000+\n",
      "Larry H Miller Automotive : 10,000+\n",
      "Add-On: Alcatel (h) : 50,000+\n",
      "J. Polep Plus Mobile : 100+\n",
      "K-App Mitarbeiter Galeria Kaufhof : 100+\n",
      "Calculator L : 100,000+\n",
      "Emoji Android L Keyboard : 1,000,000+\n",
      "Mobizen Screen Recorder - Record, Capture, Edit : 50,000,000+\n",
      "Tap N Pay : 10,000+\n",
      "N Files - File Manager & Explorer : 10,000+\n",
      "WiFi-o-Matic : 50,000+\n",
      "Multiling O Keyboard + emoji : 1,000,000+\n",
      "Official QR Code® Reader \"Q\" : 500,000+\n",
      "Q Actions - Digital Assistant : 500+\n",
      "Q Link Wireless Zone : 500,000+\n",
      "R-net for Android : 5,000+\n",
      "Mat|r viewer : 100+\n",
      "S Note : 10,000,000+\n",
      "S’more - Earn Cash Rewards : 1,000,000+\n",
      "SH Script Runner : 50,000+\n",
      "AT&T Mobile Transfer : 10,000,000+\n",
      "T-Mobile Content Transfer : 500,000+\n",
      "Můj T-Mobile Business : 1,000,000+\n",
      "U Assist - Screen Mirroring & Sharing App : 50,000+\n",
      "U+Box : 10,000,000+\n",
      "NQ Mobile Security & Antivirus : 10,000,000+\n",
      "Air Conditioner Maintenance : 5,000+\n",
      "Remote Control For All AC - Universal Remote : 10,000+\n",
      "Ad Detect Plugin - Handy Tool : 500,000+\n",
      "Safe Notes - Secure Ad-free notepad : 50,000+\n",
      "Adblock Fast : 1,000,000+\n",
      "Google AdSense : 1,000,000+\n",
      "Best Applock - Locker & No Ads : 100,000+\n",
      "TIMBER AD FILTER - Very useful ad block app : 100,000+\n",
      "ESS Mobile for AE : 5,000+\n",
      "Trimble Ag Mobile : 10,000+\n",
      "Ag PhD Soils : 1,000+\n",
      "Ag Trucking Mobile App : 100+\n",
      "Ag Guardian : 100+\n",
      "My Ag Report : 50+\n",
      "Mix Tank – Tank Mixing Ag App : 10,000+\n",
      "Extreme- Personal Voice Assistant : 1,000,000+\n",
      "Puck AI Personal Assistant Robot : 1,000+\n",
      "Builder (by Engineer.ai) : 100+\n",
      "Friday: Smart Personal Assistant : 100,000+\n",
      "Lyra Virtual Assistant : 1,000,000+\n",
      "ai.Bot Box : 10,000+\n",
      "MiAI (Artificial Intelligence) Assistant : 100+\n",
      "Turbo AI™ - Personal assistant : 5,000+\n",
      "AI Sight : 1,000+\n",
      "AL Voice Recorder : 1,000,000+\n",
      "AP ENPS Mobile : 5,000+\n",
      "AQ Guards : 10+\n",
      "QR Droid : 50,000,000+\n",
      "Mind Map AR, Augmented Reality ARCore Mind Mapping : 5,000+\n",
      "PDF Viewer & Book Reader : 5,000,000+\n",
      "Alarm Clock: Stopwatch & Timer : 50,000,000+\n",
      "Total AV : 100,000+\n",
      "Mobile Security: Antivirus, Web Scan & App Lock : 10,000,000+\n",
      "Professional AV Solution & Products information : 1,000+\n",
      "Bits Watch Face : 100,000+\n",
      "Tips Microsoft Dynamics Ax : 500+\n",
      "Tips & Tricks Dynamics AX 365 : 100+\n",
      "A-Z App Store : 500,000+\n",
      "BA Calculator : 5,000+\n",
      "Town of Princeton, BC : 100+\n",
      "Electricity Bill Calculator BD : 10,000+\n",
      "BD Attendance : 1,000+\n",
      "BD Field Force : 1,000+\n",
      "BG+Phone Backup : 1,000+\n",
      "ALL-IN-ONE PACKAGE TRACKING : 1,000,000+\n",
      "MinT BI : 10+\n",
      "BJ Memo Widget : 50,000+\n",
      "SKIN BK : 10+\n",
      "BM Interventi : 10+\n",
      "BAMMS for BM 1Park : 50+\n",
      "BAMMS for BM SQ : 10+\n",
      "BN Inscript Improved Input keyboard : 10+\n",
      "Calendars (En, Bn, Ar) : 1,000+\n",
      "BN DB1 App : 50+\n",
      "BN Inscript Improved Keyboard : 10+\n",
      "Add-On: bq (a) : 5,000+\n",
      "Add-On: bq (c) : 1,000+\n",
      "Add-On: bq (b) : 1,000+\n",
      "BV Mobile Apps : 100+\n",
      "BW Ultra : 10+\n",
      "BW-IVMS : 100+\n",
      "IP address BW : 500+\n",
      "BW t&t : 10+\n",
      "BZ Dealer : 500+\n",
      "CA World '17 : 1,000+\n",
      "Register.ca Mobile : 100+\n",
      "CD Library : 10,000+\n",
      "APagri CD : 10+\n",
      "CE SODEXO PASS FRANCE : 50+\n",
      "ACCEPT CE MARKING : 10+\n",
      "CG - Calendars Add-On : 5,000+\n",
      "CG - Conference Call Add-On : 1,000+\n",
      "Somos CG : 100+\n",
      "My CG : 10+\n",
      "Chrome Canary (Unstable) : 1,000,000+\n",
      "CI Remote for Go : 100+\n",
      "IQ Test : 100,000+\n",
      "Thistletown CI : 100+\n",
      "CI Time : 100+\n",
      "CircleCI Viewer : 1,000+\n",
      "CI CAFETERIAS UBER : 100+\n",
      "CJ'S TIRE AND AUTO INC. : 100+\n",
      "Commission Manager : 1,000+\n",
      "CJ Wilson's ZoomZoomnation : 500+\n",
      "Inch/cm/Foot Conversion : 100,000+\n",
      "cm, mm to inch, feet converter tool : 100,000+\n",
      "Krypton by krypt.co : 1,000+\n",
      "Fayr - Co-Parenting Simplified : 1,000+\n",
      "CP Connect 2.0 : 500+\n",
      "CQ Ukraine : 10+\n",
      "CQ Electrical Group : 1+\n",
      "iReadMe : 100+\n",
      "Ultimate Calculator for CR : 500,000+\n",
      "Ultimate Chest Tracker : 1,000,000+\n",
      "CamScanner - Phone PDF Creator : 100,000,000+\n",
      "Bomb and Nade Timer for CS:GO : 5,000+\n",
      "Solar CT PV System Power : 10,000+\n",
      "CT CONNECT : 50+\n",
      "My CU - Caucasus University : 1,000+\n",
      "Resume & CV Creator by Desygner : 5,000+\n",
      "Resume Builder and CV maker app : 100,000+\n",
      "Resume Free : 1,000,000+\n",
      "Curriculum Vitae - Resume CV : 10,000+\n",
      "Pocket RxTx Free : 100,000+\n",
      "Cx Wize : 100+\n",
      "CONNECT: The Mobile CX Summit : 50+\n",
      "CX Summit : 50+\n",
      "CY Security Antivirus Cleaner : 1,000,000+\n",
      "Phone Clean Best Speed Booster : 1,000,000+\n",
      "LOCX Applock Lock Apps & Photo : 10,000,000+\n",
      "RoutePlan.cz : 100+\n",
      "DB Manager : 1,000+\n",
      "DF-Server Mobile : 100+\n",
      "DG Report Reminder : 10,000+\n",
      "DG Phone Call Task Switcher : 1,000+\n",
      "DG Users : 100+\n",
      "e-Boks.dk : 1,000,000+\n",
      "Download Manager Pro FREE : 100,000+\n",
      "Trimble DL : 10,000+\n",
      "IDM Internet Download Manager : 100,000+\n",
      "Shaggy's DM Assistant : 5+\n",
      "DN Events : 500+\n",
      "WFVS 2018 | WhatApp Full Video Status & Downloader : 50,000+\n",
      "Mahalaxmi Dindarshika 2018 : 1,000,000+\n",
      "Microsoft To-Do: List, Task & Reminder : 1,000,000+\n",
      "To Do List : 5,000,000+\n",
      "To Do Reminder with Alarm : 1,000,000+\n",
      "Ike - To-Do List, Task List : 100,000+\n",
      "My Effectiveness: To do, Tasks : 500,000+\n",
      "Do it (Tomorrow) : 1,000,000+\n",
      "Do Not Disturb : 100,000+\n",
      "To-Do List Widget : 1,000,000+\n",
      "NoteToDo. Notes. To do list : 1,000,000+\n",
      "Memory Helper - To do list, Notepad, Notes, Memo : 500,000+\n",
      "2Do - Reminders, To-do List & Notes : 100,000+\n",
      "Time Planner - Schedule, To-Do List, Time Tracker : 500,000+\n",
      "MyLifeOrganized: To-Do List : 100,000+\n",
      "Cal - Google Calendar + Widget : 1,000,000+\n",
      "Clean My House – Chore To Do List, Task Scheduler : 100,000+\n",
      "Goal Meter: Goal Tracker, Habit Changer,To-Do List : 100,000+\n",
      "To-do list : 50,000+\n",
      "Adobe Fill & Sign: Easy PDF Form Filler : 1,000,000+\n",
      "Dr.Android Repair Master 2017 : 100,000+\n",
      "DS file : 1,000,000+\n",
      "DS note : 100,000+\n",
      "DS cam : 500,000+\n",
      "Synology Drive : 100,000+\n",
      "DS-20000S : 1,000+\n",
      "DT Manager : 500+\n",
      "DT Freight : 1+\n",
      "Clean My Android : 5,000,000+\n",
      "APUS Booster - Space Cleaner & Booster : 10,000,000+\n",
      "DV Web Design Tips : 10+\n",
      "Dz Dinars Numbers to letters : 100,000+\n",
      "Numbers Into Words : 50,000+\n",
      "DZ Register : 1+\n",
      "Epson iProjection : 1,000,000+\n",
      "EB Scanner : 50+\n",
      "Exército Brasileiro : 100,000+\n",
      "ec-Work : 100+\n",
      "New Holland Agriculture T5 EC : 1,000+\n",
      "EC Taximeter : 10,000+\n",
      "EC QR : 10+\n",
      "EC Sampler : 1+\n",
      "SCS eC : 100+\n",
      "EF Staff : 100+\n",
      "EF Calculator : 1,000+\n",
      "eG Monitor : 100+\n",
      "EG : 100+\n",
      "EI! : 10+\n",
      "Sai Baba - Sabka Malik Ek : 1,000+\n",
      "Ek Vote : 500+\n",
      "Ginger Keyboard - Emoji, GIFs, Themes & Games : 5,000,000+\n",
      "EP Home Energy Hub : 100+\n",
      "EP Cloud : 10+\n",
      "ER Assist : 10+\n",
      "ES Disk Analyzer - Storage Space : 100,000+\n",
      "ES Material Theme for Pro : 1,000,000+\n",
      "ES Holo Theme for Pro : 500,000+\n",
      "ES Billing System (Offline App) : 100+\n",
      "ESLock File Recovery Lite : 50,000+\n",
      "iTranslate Translator & Dictionary : 10,000,000+\n",
      "EU Economy : 5,000+\n",
      "Eurostat Country Profiles : 10,000+\n",
      "EU Brazil Green Business Forum : 10+\n",
      "Simple EV Calc : 1,000+\n",
      "EY Team Connect : 50+\n",
      "EY ATL Fuel Calculator : 500+\n",
      "EY Events Switzerland : 500+\n",
      "EZ Inspections : 10,000+\n",
      "EZ Display : 50,000+\n",
      "EZ File Manager(Root Explorer) : 100,000+\n",
      "EZ Notes Lite : 1,000+\n",
      "EZ Switch Widget : 100,000+\n",
      "MultiMessage for FB Messenger : 50,000+\n",
      "IDM for Facebook ★ Downloader : 100,000+\n",
      "Chelsea FC Official Keyboard : 1,000,000+\n",
      "Avast Wi-Fi Finder : 1,000,000+\n",
      "Safe Wi-Fi : 1,000+\n",
      "Wi-Fi Networks : 10,000+\n",
      "Fast Notes FJ : 500+\n",
      "FK Events : 5+\n",
      "Charlotte County, FL : 1,000+\n",
      "FL House : 1,000+\n",
      "Florida Cooling Supply HVAC : 500+\n",
      "Fort Myers FL : 100+\n",
      "MY GULFPORT FL : 50+\n",
      "Future Cloud : 100,000+\n",
      "FQ METER : 1,000+\n",
      "PLMGSS FR : 10+\n"
     ]
    }
   ],
   "source": [
    "for app in free_apps:\n",
    "    if app[1] == 'PRODUCTIVITY':\n",
    "        print(app[0],':', app[5])"
   ]
  },
  {
   "cell_type": "markdown",
   "metadata": {},
   "source": [
    "Again this is a largerly saturated category. Market saturaturation within the top categories seems inevitable in the Google Play store.\n",
    "\n",
    "Rather than looking at it from a saturation lens, we could look for external data about time spent in app. According to the [2019 Business of Apps Report](https://www.businessofapps.com/data/app-statistics/) and [App Annie's 2019 Mobile app report](https://www.appannie.com/en/go/state-of-mobile-2019/), communications apps account for 50% of user time spent in apps globally. This makes it much more likely for a user to click our ads and produce revenue. \n",
    "\n",
    "However, this category is dominated by a few big names like What's App and Facebook Messanger who have much more resources and man-power to scale. This begs the question, even if the top performing apps get users to spend a large amount of time in app, will we be capable with limited resources to do the same?\n",
    "\n",
    "I don't reccomend building an app for the Google Play store for this reason. \n",
    "\n",
    "\n",
    "\n",
    "# Conclusion\n",
    "\n",
    "In this project, we analyzed data about the App Store and Google Play mobile apps with the goal of recommending an app profile that can be profitable for both markets.\n",
    "\n",
    "However, given the saturation of the Google Play store, I suggest sticking to Apple's App Store and building a karaoke app because it is smaller and less competitive."
   ]
  }
 ],
 "metadata": {
  "kernelspec": {
   "display_name": "Python 3",
   "language": "python",
   "name": "python3"
  },
  "language_info": {
   "codemirror_mode": {
    "name": "ipython",
    "version": 3
   },
   "file_extension": ".py",
   "mimetype": "text/x-python",
   "name": "python",
   "nbconvert_exporter": "python",
   "pygments_lexer": "ipython3",
   "version": "3.4.3"
  }
 },
 "nbformat": 4,
 "nbformat_minor": 2
}
